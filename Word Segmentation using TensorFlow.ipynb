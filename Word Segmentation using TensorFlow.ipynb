{
 "cells": [
  {
   "cell_type": "code",
   "execution_count": 38,
   "metadata": {},
   "outputs": [],
   "source": [
    "import os\n",
    "import cv2\n",
    "import numpy as np\n",
    "import pandas as pd\n",
    "import matplotlib.pyplot as plt\n",
    "import tensorflow as tf\n",
    "from tensorflow import keras\n",
    "from tensorflow.keras import layers\n",
    "from tensorflow.keras import callbacks\n",
    "from tensorflow.keras.models import Model\n",
    "from tensorflow.keras.models import load_model\n",
    "\n",
    "from sklearn.model_selection import train_test_split\n",
    "\n",
    "import matplotlib.pyplot as plt\n",
    "%matplotlib inline"
   ]
  },
  {
   "cell_type": "code",
   "execution_count": 39,
   "metadata": {},
   "outputs": [
    {
     "name": "stdout",
     "output_type": "stream",
     "text": [
      "1071\n"
     ]
    }
   ],
   "source": [
    "print(len(os.listdir(\"samples\")))"
   ]
  },
  {
   "cell_type": "code",
   "execution_count": 40,
   "metadata": {},
   "outputs": [
    {
     "name": "stdout",
     "output_type": "stream",
     "text": [
      "36\n"
     ]
    }
   ],
   "source": [
    "import string \n",
    "\n",
    "symbols = string.ascii_lowercase + \"0123456789\"\n",
    "\n",
    "num_symbols = len(symbols)\n",
    "img_shape = (50, 200 , 1)\n",
    "\n",
    "print(num_symbols)"
   ]
  },
  {
   "cell_type": "code",
   "execution_count": 41,
   "metadata": {},
   "outputs": [],
   "source": [
    "def preprocess_data():\n",
    "    n_samples = len(os.listdir('samples/samples'))\n",
    "    X = np.zeros((n_samples, 50, 200, 1)) #1071*50*200\n",
    "    y = np.zeros((5, n_samples, num_symbols)) #5*1070*36\n",
    "    \n",
    "    for i, pic in enumerate(os.listdir('samples/samples')):\n",
    "        img = cv2.imread(os.path.join('samples/samples', pic), cv2.IMREAD_GRAYSCALE)\n",
    "        pic_target = pic[:-4]\n",
    "        if len(pic_target) < 6:\n",
    "            img = img /255.0\n",
    "            img = np.reshape(img, (50, 200 ,1))\n",
    "            \n",
    "            targs = np.zeros((5, num_symbols))\n",
    "            for j, l in enumerate(pic_target):\n",
    "                ind = symbols.find(l)\n",
    "                targs[j, ind] = 1\n",
    "            X[i] = img\n",
    "            y[:, i] = targs\n",
    "            \n",
    "    return X, y\n",
    "\n",
    "X, y = preprocess_data()\n",
    "X_train, y_train = X[:970], y[:, :970]\n",
    "X_test, y_test = X[970:], y[:, 970:]\n",
    "        "
   ]
  },
  {
   "cell_type": "code",
   "execution_count": 42,
   "metadata": {},
   "outputs": [],
   "source": [
    "def create_model():\n",
    "    img = layers.Input(shape = img_shape)\n",
    "    \n",
    "    conv1 = tf.keras.layers.Conv2D(16, (3, 3), padding = 'same', activation = 'relu')(img)\n",
    "    maxpool1 = tf.keras.layers.MaxPooling2D(padding = 'same')(conv1)\n",
    "    \n",
    "    conv2 = tf.keras.layers.Conv2D(32, (3, 3), padding = 'same', activation = 'relu')(maxpool1)\n",
    "    maxpool2 = tf.keras.layers.MaxPooling2D(padding = 'same')(conv2)\n",
    "    \n",
    "    conv3 = tf.keras.layers.Conv2D(32, (3, 3), padding = 'same', activation = 'relu')(maxpool2)\n",
    "    batch_norm = tf.keras.layers.BatchNormalization()(conv3)\n",
    "    maxpool3 = tf.keras.layers.MaxPooling2D(padding = 'same')(batch_norm)\n",
    "    \n",
    "    flat = tf.keras.layers.Flatten()(maxpool3)\n",
    "    outs = []\n",
    "    for _ in range(5):\n",
    "        dense1 = tf.keras.layers.Dense(64, activation = 'relu')(flat)\n",
    "        dropout = tf.keras.layers.Dropout(0.5)(dense1)\n",
    "        dense2 = layers.Dense(num_symbols, activation = 'sigmoid')(dropout)\n",
    "        \n",
    "        outs.append(dense2)\n",
    "        \n",
    "    model = Model(img, outs)\n",
    "    model.compile(loss = 'categorical_crossentropy', optimizer = 'adam', metrics = ['accuracy'])\n",
    "    return model"
   ]
  },
  {
   "cell_type": "code",
   "execution_count": 43,
   "metadata": {
    "scrolled": false
   },
   "outputs": [
    {
     "name": "stdout",
     "output_type": "stream",
     "text": [
      "Model: \"model_3\"\n",
      "__________________________________________________________________________________________________\n",
      "Layer (type)                    Output Shape         Param #     Connected to                     \n",
      "==================================================================================================\n",
      "input_5 (InputLayer)            [(None, 50, 200, 1)] 0                                            \n",
      "__________________________________________________________________________________________________\n",
      "conv2d_12 (Conv2D)              (None, 50, 200, 16)  160         input_5[0][0]                    \n",
      "__________________________________________________________________________________________________\n",
      "max_pooling2d_12 (MaxPooling2D) (None, 25, 100, 16)  0           conv2d_12[0][0]                  \n",
      "__________________________________________________________________________________________________\n",
      "conv2d_13 (Conv2D)              (None, 25, 100, 32)  4640        max_pooling2d_12[0][0]           \n",
      "__________________________________________________________________________________________________\n",
      "max_pooling2d_13 (MaxPooling2D) (None, 13, 50, 32)   0           conv2d_13[0][0]                  \n",
      "__________________________________________________________________________________________________\n",
      "conv2d_14 (Conv2D)              (None, 13, 50, 32)   9248        max_pooling2d_13[0][0]           \n",
      "__________________________________________________________________________________________________\n",
      "batch_normalization_4 (BatchNor (None, 13, 50, 32)   128         conv2d_14[0][0]                  \n",
      "__________________________________________________________________________________________________\n",
      "max_pooling2d_14 (MaxPooling2D) (None, 7, 25, 32)    0           batch_normalization_4[0][0]      \n",
      "__________________________________________________________________________________________________\n",
      "flatten_4 (Flatten)             (None, 5600)         0           max_pooling2d_14[0][0]           \n",
      "__________________________________________________________________________________________________\n",
      "dense_31 (Dense)                (None, 64)           358464      flatten_4[0][0]                  \n",
      "__________________________________________________________________________________________________\n",
      "dense_33 (Dense)                (None, 64)           358464      flatten_4[0][0]                  \n",
      "__________________________________________________________________________________________________\n",
      "dense_35 (Dense)                (None, 64)           358464      flatten_4[0][0]                  \n",
      "__________________________________________________________________________________________________\n",
      "dense_37 (Dense)                (None, 64)           358464      flatten_4[0][0]                  \n",
      "__________________________________________________________________________________________________\n",
      "dense_39 (Dense)                (None, 64)           358464      flatten_4[0][0]                  \n",
      "__________________________________________________________________________________________________\n",
      "dropout_16 (Dropout)            (None, 64)           0           dense_31[0][0]                   \n",
      "__________________________________________________________________________________________________\n",
      "dropout_17 (Dropout)            (None, 64)           0           dense_33[0][0]                   \n",
      "__________________________________________________________________________________________________\n",
      "dropout_18 (Dropout)            (None, 64)           0           dense_35[0][0]                   \n",
      "__________________________________________________________________________________________________\n",
      "dropout_19 (Dropout)            (None, 64)           0           dense_37[0][0]                   \n",
      "__________________________________________________________________________________________________\n",
      "dropout_20 (Dropout)            (None, 64)           0           dense_39[0][0]                   \n",
      "__________________________________________________________________________________________________\n",
      "dense_32 (Dense)                (None, 36)           2340        dropout_16[0][0]                 \n",
      "__________________________________________________________________________________________________\n",
      "dense_34 (Dense)                (None, 36)           2340        dropout_17[0][0]                 \n",
      "__________________________________________________________________________________________________\n",
      "dense_36 (Dense)                (None, 36)           2340        dropout_18[0][0]                 \n",
      "__________________________________________________________________________________________________\n",
      "dense_38 (Dense)                (None, 36)           2340        dropout_19[0][0]                 \n",
      "__________________________________________________________________________________________________\n",
      "dense_40 (Dense)                (None, 36)           2340        dropout_20[0][0]                 \n",
      "==================================================================================================\n",
      "Total params: 1,818,196\n",
      "Trainable params: 1,818,132\n",
      "Non-trainable params: 64\n",
      "__________________________________________________________________________________________________\n"
     ]
    }
   ],
   "source": [
    "model = create_model()\n",
    "model.summary()"
   ]
  },
  {
   "cell_type": "code",
   "execution_count": 44,
   "metadata": {},
   "outputs": [
    {
     "name": "stdout",
     "output_type": "stream",
     "text": [
      "Epoch 1/30\n",
      "25/25 [==============================] - 5s 203ms/step - loss: 17.3725 - dense_32_loss: 3.2350 - dense_34_loss: 3.5708 - dense_36_loss: 3.5861 - dense_38_loss: 3.4664 - dense_40_loss: 3.5141 - dense_32_accuracy: 0.0709 - dense_34_accuracy: 0.0451 - dense_36_accuracy: 0.0528 - dense_38_accuracy: 0.0528 - dense_40_accuracy: 0.0490 - val_loss: 17.7457 - val_dense_32_loss: 3.7634 - val_dense_34_loss: 3.5048 - val_dense_36_loss: 3.5399 - val_dense_38_loss: 3.4595 - val_dense_40_loss: 3.4781 - val_dense_32_accuracy: 0.0000e+00 - val_dense_34_accuracy: 0.0515 - val_dense_36_accuracy: 0.0979 - val_dense_38_accuracy: 0.0979 - val_dense_40_accuracy: 0.0515\n",
      "Epoch 2/30\n",
      "25/25 [==============================] - 4s 172ms/step - loss: 16.1761 - dense_32_loss: 2.9310 - dense_34_loss: 3.3346 - dense_36_loss: 3.3673 - dense_38_loss: 3.2729 - dense_40_loss: 3.2704 - dense_32_accuracy: 0.0838 - dense_34_accuracy: 0.0412 - dense_36_accuracy: 0.0606 - dense_38_accuracy: 0.0696 - dense_40_accuracy: 0.0696 - val_loss: 17.6419 - val_dense_32_loss: 3.7670 - val_dense_34_loss: 3.4851 - val_dense_36_loss: 3.5034 - val_dense_38_loss: 3.4397 - val_dense_40_loss: 3.4466 - val_dense_32_accuracy: 0.0000e+00 - val_dense_34_accuracy: 0.0515 - val_dense_36_accuracy: 0.0412 - val_dense_38_accuracy: 0.0979 - val_dense_40_accuracy: 0.0567\n",
      "Epoch 3/30\n",
      "25/25 [==============================] - 4s 164ms/step - loss: 15.3630 - dense_32_loss: 2.7741 - dense_34_loss: 3.1304 - dense_36_loss: 3.2031 - dense_38_loss: 3.1197 - dense_40_loss: 3.1357 - dense_32_accuracy: 0.1289 - dense_34_accuracy: 0.1018 - dense_36_accuracy: 0.0851 - dense_38_accuracy: 0.0657 - dense_40_accuracy: 0.0786 - val_loss: 17.3923 - val_dense_32_loss: 3.7525 - val_dense_34_loss: 3.4103 - val_dense_36_loss: 3.4693 - val_dense_38_loss: 3.3745 - val_dense_40_loss: 3.3857 - val_dense_32_accuracy: 0.0000e+00 - val_dense_34_accuracy: 0.0515 - val_dense_36_accuracy: 0.0825 - val_dense_38_accuracy: 0.0979 - val_dense_40_accuracy: 0.1340\n",
      "Epoch 4/30\n",
      "25/25 [==============================] - 4s 175ms/step - loss: 14.7188 - dense_32_loss: 2.6325 - dense_34_loss: 2.9825 - dense_36_loss: 3.0760 - dense_38_loss: 3.0362 - dense_40_loss: 2.9916 - dense_32_accuracy: 0.1778 - dense_34_accuracy: 0.1108 - dense_36_accuracy: 0.0773 - dense_38_accuracy: 0.0709 - dense_40_accuracy: 0.1057 - val_loss: 17.4101 - val_dense_32_loss: 3.6727 - val_dense_34_loss: 3.4338 - val_dense_36_loss: 3.4697 - val_dense_38_loss: 3.4274 - val_dense_40_loss: 3.4064 - val_dense_32_accuracy: 0.0000e+00 - val_dense_34_accuracy: 0.1340 - val_dense_36_accuracy: 0.0979 - val_dense_38_accuracy: 0.0979 - val_dense_40_accuracy: 0.1701\n",
      "Epoch 5/30\n",
      "25/25 [==============================] - 4s 178ms/step - loss: 14.1367 - dense_32_loss: 2.4929 - dense_34_loss: 2.8675 - dense_36_loss: 2.9236 - dense_38_loss: 2.9382 - dense_40_loss: 2.9145 - dense_32_accuracy: 0.2242 - dense_34_accuracy: 0.1534 - dense_36_accuracy: 0.1018 - dense_38_accuracy: 0.0773 - dense_40_accuracy: 0.1082 - val_loss: 17.3961 - val_dense_32_loss: 3.6099 - val_dense_34_loss: 3.4378 - val_dense_36_loss: 3.4526 - val_dense_38_loss: 3.4440 - val_dense_40_loss: 3.4518 - val_dense_32_accuracy: 0.0052 - val_dense_34_accuracy: 0.1082 - val_dense_36_accuracy: 0.1237 - val_dense_38_accuracy: 0.0928 - val_dense_40_accuracy: 0.2320\n",
      "Epoch 6/30\n",
      "25/25 [==============================] - 4s 177ms/step - loss: 13.5026 - dense_32_loss: 2.2697 - dense_34_loss: 2.6954 - dense_36_loss: 2.8301 - dense_38_loss: 2.8887 - dense_40_loss: 2.8187 - dense_32_accuracy: 0.3067 - dense_34_accuracy: 0.1843 - dense_36_accuracy: 0.1314 - dense_38_accuracy: 0.0863 - dense_40_accuracy: 0.1598 - val_loss: 16.8021 - val_dense_32_loss: 3.6236 - val_dense_34_loss: 3.2607 - val_dense_36_loss: 3.3138 - val_dense_38_loss: 3.2946 - val_dense_40_loss: 3.3094 - val_dense_32_accuracy: 0.0103 - val_dense_34_accuracy: 0.0979 - val_dense_36_accuracy: 0.1186 - val_dense_38_accuracy: 0.0464 - val_dense_40_accuracy: 0.1753\n",
      "Epoch 7/30\n",
      "25/25 [==============================] - 4s 177ms/step - loss: 12.8920 - dense_32_loss: 1.9901 - dense_34_loss: 2.6081 - dense_36_loss: 2.7579 - dense_38_loss: 2.7987 - dense_40_loss: 2.7373 - dense_32_accuracy: 0.3827 - dense_34_accuracy: 0.1843 - dense_36_accuracy: 0.1546 - dense_38_accuracy: 0.0760 - dense_40_accuracy: 0.1727 - val_loss: 16.8867 - val_dense_32_loss: 3.5662 - val_dense_34_loss: 3.2623 - val_dense_36_loss: 3.3633 - val_dense_38_loss: 3.3689 - val_dense_40_loss: 3.3261 - val_dense_32_accuracy: 0.0361 - val_dense_34_accuracy: 0.1753 - val_dense_36_accuracy: 0.1649 - val_dense_38_accuracy: 0.0619 - val_dense_40_accuracy: 0.1598\n",
      "Epoch 8/30\n",
      "25/25 [==============================] - 4s 172ms/step - loss: 12.1616 - dense_32_loss: 1.7322 - dense_34_loss: 2.4540 - dense_36_loss: 2.6292 - dense_38_loss: 2.7420 - dense_40_loss: 2.6042 - dense_32_accuracy: 0.4472 - dense_34_accuracy: 0.1856 - dense_36_accuracy: 0.1701 - dense_38_accuracy: 0.0722 - dense_40_accuracy: 0.1791 - val_loss: 16.7118 - val_dense_32_loss: 3.4432 - val_dense_34_loss: 3.2750 - val_dense_36_loss: 3.2820 - val_dense_38_loss: 3.3709 - val_dense_40_loss: 3.3407 - val_dense_32_accuracy: 0.1186 - val_dense_34_accuracy: 0.2474 - val_dense_36_accuracy: 0.2113 - val_dense_38_accuracy: 0.0722 - val_dense_40_accuracy: 0.1753\n",
      "Epoch 9/30\n",
      "25/25 [==============================] - 4s 175ms/step - loss: 11.2706 - dense_32_loss: 1.3560 - dense_34_loss: 2.3035 - dense_36_loss: 2.5118 - dense_38_loss: 2.6335 - dense_40_loss: 2.4657 - dense_32_accuracy: 0.5657 - dense_34_accuracy: 0.2036 - dense_36_accuracy: 0.2010 - dense_38_accuracy: 0.0747 - dense_40_accuracy: 0.2075 - val_loss: 16.2234 - val_dense_32_loss: 3.4529 - val_dense_34_loss: 3.1095 - val_dense_36_loss: 3.2459 - val_dense_38_loss: 3.2413 - val_dense_40_loss: 3.1738 - val_dense_32_accuracy: 0.0928 - val_dense_34_accuracy: 0.2887 - val_dense_36_accuracy: 0.2268 - val_dense_38_accuracy: 0.0515 - val_dense_40_accuracy: 0.2113\n",
      "Epoch 10/30\n",
      "25/25 [==============================] - 4s 176ms/step - loss: 10.5274 - dense_32_loss: 1.1433 - dense_34_loss: 2.1421 - dense_36_loss: 2.3820 - dense_38_loss: 2.5424 - dense_40_loss: 2.3175 - dense_32_accuracy: 0.6701 - dense_34_accuracy: 0.2899 - dense_36_accuracy: 0.2384 - dense_38_accuracy: 0.0915 - dense_40_accuracy: 0.2552 - val_loss: 15.5811 - val_dense_32_loss: 3.7776 - val_dense_34_loss: 2.7962 - val_dense_36_loss: 2.9592 - val_dense_38_loss: 3.1045 - val_dense_40_loss: 2.9436 - val_dense_32_accuracy: 0.1237 - val_dense_34_accuracy: 0.3557 - val_dense_36_accuracy: 0.2062 - val_dense_38_accuracy: 0.0876 - val_dense_40_accuracy: 0.3196\n",
      "Epoch 11/30\n",
      "25/25 [==============================] - 4s 174ms/step - loss: 9.7329 - dense_32_loss: 0.9111 - dense_34_loss: 1.9413 - dense_36_loss: 2.2134 - dense_38_loss: 2.4931 - dense_40_loss: 2.1740 - dense_32_accuracy: 0.7062 - dense_34_accuracy: 0.3363 - dense_36_accuracy: 0.2732 - dense_38_accuracy: 0.1070 - dense_40_accuracy: 0.2835 - val_loss: 14.8596 - val_dense_32_loss: 3.6968 - val_dense_34_loss: 2.6262 - val_dense_36_loss: 2.8503 - val_dense_38_loss: 2.8902 - val_dense_40_loss: 2.7961 - val_dense_32_accuracy: 0.0103 - val_dense_34_accuracy: 0.4124 - val_dense_36_accuracy: 0.3763 - val_dense_38_accuracy: 0.0567 - val_dense_40_accuracy: 0.3763\n",
      "Epoch 12/30\n",
      "25/25 [==============================] - 4s 174ms/step - loss: 8.8655 - dense_32_loss: 0.7929 - dense_34_loss: 1.6183 - dense_36_loss: 2.0785 - dense_38_loss: 2.3549 - dense_40_loss: 2.0209 - dense_32_accuracy: 0.7384 - dense_34_accuracy: 0.4497 - dense_36_accuracy: 0.2887 - dense_38_accuracy: 0.1070 - dense_40_accuracy: 0.3157 - val_loss: 14.5459 - val_dense_32_loss: 3.9098 - val_dense_34_loss: 2.3575 - val_dense_36_loss: 2.7197 - val_dense_38_loss: 2.8966 - val_dense_40_loss: 2.6622 - val_dense_32_accuracy: 0.0515 - val_dense_34_accuracy: 0.6546 - val_dense_36_accuracy: 0.4021 - val_dense_38_accuracy: 0.1134 - val_dense_40_accuracy: 0.4845\n",
      "Epoch 13/30\n"
     ]
    },
    {
     "name": "stdout",
     "output_type": "stream",
     "text": [
      "25/25 [==============================] - 4s 177ms/step - loss: 7.8634 - dense_32_loss: 0.6226 - dense_34_loss: 1.3074 - dense_36_loss: 1.9216 - dense_38_loss: 2.2024 - dense_40_loss: 1.8094 - dense_32_accuracy: 0.8131 - dense_34_accuracy: 0.5593 - dense_36_accuracy: 0.3441 - dense_38_accuracy: 0.1675 - dense_40_accuracy: 0.3892 - val_loss: 13.6034 - val_dense_32_loss: 4.4116 - val_dense_34_loss: 1.9686 - val_dense_36_loss: 2.4152 - val_dense_38_loss: 2.5059 - val_dense_40_loss: 2.3020 - val_dense_32_accuracy: 0.0619 - val_dense_34_accuracy: 0.6959 - val_dense_36_accuracy: 0.4794 - val_dense_38_accuracy: 0.1804 - val_dense_40_accuracy: 0.6031\n",
      "Epoch 14/30\n",
      "25/25 [==============================] - 4s 180ms/step - loss: 6.9520 - dense_32_loss: 0.5017 - dense_34_loss: 1.0758 - dense_36_loss: 1.6573 - dense_38_loss: 2.0801 - dense_40_loss: 1.6372 - dense_32_accuracy: 0.8325 - dense_34_accuracy: 0.6186 - dense_36_accuracy: 0.4510 - dense_38_accuracy: 0.1959 - dense_40_accuracy: 0.4562 - val_loss: 12.8160 - val_dense_32_loss: 4.6076 - val_dense_34_loss: 1.5834 - val_dense_36_loss: 2.1357 - val_dense_38_loss: 2.4422 - val_dense_40_loss: 2.0471 - val_dense_32_accuracy: 0.1546 - val_dense_34_accuracy: 0.8196 - val_dense_36_accuracy: 0.6031 - val_dense_38_accuracy: 0.1598 - val_dense_40_accuracy: 0.6237\n",
      "Epoch 15/30\n",
      "25/25 [==============================] - 4s 180ms/step - loss: 6.2165 - dense_32_loss: 0.4052 - dense_34_loss: 0.8462 - dense_36_loss: 1.5371 - dense_38_loss: 1.9699 - dense_40_loss: 1.4580 - dense_32_accuracy: 0.8634 - dense_34_accuracy: 0.7126 - dense_36_accuracy: 0.4948 - dense_38_accuracy: 0.2371 - dense_40_accuracy: 0.5052 - val_loss: 12.0422 - val_dense_32_loss: 4.5354 - val_dense_34_loss: 1.3966 - val_dense_36_loss: 2.0477 - val_dense_38_loss: 2.1608 - val_dense_40_loss: 1.9017 - val_dense_32_accuracy: 0.2010 - val_dense_34_accuracy: 0.8093 - val_dense_36_accuracy: 0.5928 - val_dense_38_accuracy: 0.2629 - val_dense_40_accuracy: 0.6186\n",
      "Epoch 16/30\n",
      "25/25 [==============================] - 4s 172ms/step - loss: 5.4781 - dense_32_loss: 0.3567 - dense_34_loss: 0.7482 - dense_36_loss: 1.3111 - dense_38_loss: 1.7994 - dense_40_loss: 1.2626 - dense_32_accuracy: 0.8840 - dense_34_accuracy: 0.7655 - dense_36_accuracy: 0.5786 - dense_38_accuracy: 0.3312 - dense_40_accuracy: 0.5515 - val_loss: 11.5365 - val_dense_32_loss: 5.2001 - val_dense_34_loss: 1.1328 - val_dense_36_loss: 1.6911 - val_dense_38_loss: 1.9644 - val_dense_40_loss: 1.5480 - val_dense_32_accuracy: 0.1392 - val_dense_34_accuracy: 0.8402 - val_dense_36_accuracy: 0.6804 - val_dense_38_accuracy: 0.4433 - val_dense_40_accuracy: 0.7423\n",
      "Epoch 17/30\n",
      "25/25 [==============================] - 4s 178ms/step - loss: 4.8459 - dense_32_loss: 0.3942 - dense_34_loss: 0.6467 - dense_36_loss: 1.1101 - dense_38_loss: 1.5562 - dense_40_loss: 1.1387 - dense_32_accuracy: 0.8737 - dense_34_accuracy: 0.7642 - dense_36_accuracy: 0.6379 - dense_38_accuracy: 0.4420 - dense_40_accuracy: 0.5889 - val_loss: 11.0316 - val_dense_32_loss: 5.4874 - val_dense_34_loss: 0.8845 - val_dense_36_loss: 1.4943 - val_dense_38_loss: 1.7441 - val_dense_40_loss: 1.4212 - val_dense_32_accuracy: 0.0567 - val_dense_34_accuracy: 0.8505 - val_dense_36_accuracy: 0.6753 - val_dense_38_accuracy: 0.5567 - val_dense_40_accuracy: 0.7268\n",
      "Epoch 18/30\n",
      "25/25 [==============================] - 4s 177ms/step - loss: 4.1538 - dense_32_loss: 0.2759 - dense_34_loss: 0.5179 - dense_36_loss: 0.9302 - dense_38_loss: 1.3981 - dense_40_loss: 1.0316 - dense_32_accuracy: 0.9137 - dense_34_accuracy: 0.8235 - dense_36_accuracy: 0.6701 - dense_38_accuracy: 0.5013 - dense_40_accuracy: 0.6302 - val_loss: 10.2176 - val_dense_32_loss: 5.7185 - val_dense_34_loss: 0.7695 - val_dense_36_loss: 1.2562 - val_dense_38_loss: 1.3256 - val_dense_40_loss: 1.1479 - val_dense_32_accuracy: 0.0876 - val_dense_34_accuracy: 0.8402 - val_dense_36_accuracy: 0.7062 - val_dense_38_accuracy: 0.6443 - val_dense_40_accuracy: 0.7784\n",
      "Epoch 19/30\n",
      "25/25 [==============================] - 4s 178ms/step - loss: 3.6740 - dense_32_loss: 0.2486 - dense_34_loss: 0.4633 - dense_36_loss: 0.8491 - dense_38_loss: 1.1693 - dense_40_loss: 0.9437 - dense_32_accuracy: 0.9124 - dense_34_accuracy: 0.8454 - dense_36_accuracy: 0.7049 - dense_38_accuracy: 0.5979 - dense_40_accuracy: 0.6688 - val_loss: 10.3384 - val_dense_32_loss: 6.4201 - val_dense_34_loss: 0.6338 - val_dense_36_loss: 1.1537 - val_dense_38_loss: 1.2151 - val_dense_40_loss: 0.9157 - val_dense_32_accuracy: 0.2474 - val_dense_34_accuracy: 0.8608 - val_dense_36_accuracy: 0.7216 - val_dense_38_accuracy: 0.6701 - val_dense_40_accuracy: 0.7629\n",
      "Epoch 20/30\n",
      "25/25 [==============================] - 4s 173ms/step - loss: 3.3974 - dense_32_loss: 0.2202 - dense_34_loss: 0.4385 - dense_36_loss: 0.7970 - dense_38_loss: 1.0444 - dense_40_loss: 0.8973 - dense_32_accuracy: 0.9381 - dense_34_accuracy: 0.8582 - dense_36_accuracy: 0.7281 - dense_38_accuracy: 0.6405 - dense_40_accuracy: 0.6701 - val_loss: 11.9506 - val_dense_32_loss: 8.5020 - val_dense_34_loss: 0.6418 - val_dense_36_loss: 1.0052 - val_dense_38_loss: 1.0397 - val_dense_40_loss: 0.7620 - val_dense_32_accuracy: 0.0464 - val_dense_34_accuracy: 0.8144 - val_dense_36_accuracy: 0.7474 - val_dense_38_accuracy: 0.7216 - val_dense_40_accuracy: 0.7938\n",
      "Epoch 21/30\n",
      "25/25 [==============================] - 4s 167ms/step - loss: 3.0168 - dense_32_loss: 0.2026 - dense_34_loss: 0.3817 - dense_36_loss: 0.6782 - dense_38_loss: 0.9564 - dense_40_loss: 0.7978 - dense_32_accuracy: 0.9330 - dense_34_accuracy: 0.8531 - dense_36_accuracy: 0.7616 - dense_38_accuracy: 0.6740 - dense_40_accuracy: 0.7010 - val_loss: 11.5100 - val_dense_32_loss: 8.3802 - val_dense_34_loss: 0.5710 - val_dense_36_loss: 1.0009 - val_dense_38_loss: 0.9069 - val_dense_40_loss: 0.6509 - val_dense_32_accuracy: 0.0979 - val_dense_34_accuracy: 0.8660 - val_dense_36_accuracy: 0.7577 - val_dense_38_accuracy: 0.7732 - val_dense_40_accuracy: 0.7887\n",
      "Epoch 22/30\n",
      "25/25 [==============================] - 4s 172ms/step - loss: 2.7931 - dense_32_loss: 0.2045 - dense_34_loss: 0.3501 - dense_36_loss: 0.6639 - dense_38_loss: 0.8573 - dense_40_loss: 0.7173 - dense_32_accuracy: 0.9317 - dense_34_accuracy: 0.8840 - dense_36_accuracy: 0.7680 - dense_38_accuracy: 0.7010 - dense_40_accuracy: 0.7294 - val_loss: 12.0150 - val_dense_32_loss: 9.2092 - val_dense_34_loss: 0.5446 - val_dense_36_loss: 0.8757 - val_dense_38_loss: 0.7778 - val_dense_40_loss: 0.6077 - val_dense_32_accuracy: 0.1237 - val_dense_34_accuracy: 0.8402 - val_dense_36_accuracy: 0.7990 - val_dense_38_accuracy: 0.7835 - val_dense_40_accuracy: 0.8144\n",
      "Epoch 23/30\n",
      "25/25 [==============================] - 4s 178ms/step - loss: 2.5089 - dense_32_loss: 0.1742 - dense_34_loss: 0.3264 - dense_36_loss: 0.5554 - dense_38_loss: 0.7786 - dense_40_loss: 0.6743 - dense_32_accuracy: 0.9394 - dense_34_accuracy: 0.8686 - dense_36_accuracy: 0.8093 - dense_38_accuracy: 0.7204 - dense_40_accuracy: 0.7590 - val_loss: 11.8642 - val_dense_32_loss: 8.7706 - val_dense_34_loss: 0.5585 - val_dense_36_loss: 0.9865 - val_dense_38_loss: 0.8823 - val_dense_40_loss: 0.6664 - val_dense_32_accuracy: 0.1289 - val_dense_34_accuracy: 0.8763 - val_dense_36_accuracy: 0.7474 - val_dense_38_accuracy: 0.7474 - val_dense_40_accuracy: 0.7835\n",
      "Epoch 24/30\n",
      "25/25 [==============================] - 4s 178ms/step - loss: 2.3920 - dense_32_loss: 0.1787 - dense_34_loss: 0.3270 - dense_36_loss: 0.5362 - dense_38_loss: 0.7183 - dense_40_loss: 0.6318 - dense_32_accuracy: 0.9420 - dense_34_accuracy: 0.8814 - dense_36_accuracy: 0.7964 - dense_38_accuracy: 0.7397 - dense_40_accuracy: 0.7680 - val_loss: 11.8301 - val_dense_32_loss: 9.3962 - val_dense_34_loss: 0.5210 - val_dense_36_loss: 0.7415 - val_dense_38_loss: 0.6666 - val_dense_40_loss: 0.5048 - val_dense_32_accuracy: 0.1701 - val_dense_34_accuracy: 0.8763 - val_dense_36_accuracy: 0.7938 - val_dense_38_accuracy: 0.8196 - val_dense_40_accuracy: 0.8196\n",
      "Epoch 25/30\n"
     ]
    },
    {
     "name": "stdout",
     "output_type": "stream",
     "text": [
      "25/25 [==============================] - 4s 178ms/step - loss: 2.1737 - dense_32_loss: 0.1819 - dense_34_loss: 0.2991 - dense_36_loss: 0.4977 - dense_38_loss: 0.6231 - dense_40_loss: 0.5719 - dense_32_accuracy: 0.9291 - dense_34_accuracy: 0.8827 - dense_36_accuracy: 0.8209 - dense_38_accuracy: 0.7590 - dense_40_accuracy: 0.7887 - val_loss: 12.7092 - val_dense_32_loss: 10.0924 - val_dense_34_loss: 0.6629 - val_dense_36_loss: 0.8282 - val_dense_38_loss: 0.6953 - val_dense_40_loss: 0.4304 - val_dense_32_accuracy: 0.1031 - val_dense_34_accuracy: 0.8608 - val_dense_36_accuracy: 0.7732 - val_dense_38_accuracy: 0.8093 - val_dense_40_accuracy: 0.8351\n",
      "Epoch 26/30\n",
      "25/25 [==============================] - 4s 180ms/step - loss: 2.0759 - dense_32_loss: 0.1665 - dense_34_loss: 0.2465 - dense_36_loss: 0.5066 - dense_38_loss: 0.5986 - dense_40_loss: 0.5576 - dense_32_accuracy: 0.9472 - dense_34_accuracy: 0.9137 - dense_36_accuracy: 0.8170 - dense_38_accuracy: 0.7693 - dense_40_accuracy: 0.7938 - val_loss: 11.8122 - val_dense_32_loss: 9.3564 - val_dense_34_loss: 0.5982 - val_dense_36_loss: 0.7459 - val_dense_38_loss: 0.6639 - val_dense_40_loss: 0.4479 - val_dense_32_accuracy: 0.1392 - val_dense_34_accuracy: 0.8608 - val_dense_36_accuracy: 0.8093 - val_dense_38_accuracy: 0.8041 - val_dense_40_accuracy: 0.8351\n",
      "Epoch 27/30\n",
      "25/25 [==============================] - 4s 178ms/step - loss: 1.9048 - dense_32_loss: 0.1479 - dense_34_loss: 0.2489 - dense_36_loss: 0.4616 - dense_38_loss: 0.5635 - dense_40_loss: 0.4829 - dense_32_accuracy: 0.9472 - dense_34_accuracy: 0.9059 - dense_36_accuracy: 0.8286 - dense_38_accuracy: 0.7977 - dense_40_accuracy: 0.8183 - val_loss: 12.3402 - val_dense_32_loss: 9.7497 - val_dense_34_loss: 0.5963 - val_dense_36_loss: 0.8689 - val_dense_38_loss: 0.6574 - val_dense_40_loss: 0.4679 - val_dense_32_accuracy: 0.1134 - val_dense_34_accuracy: 0.8505 - val_dense_36_accuracy: 0.7784 - val_dense_38_accuracy: 0.8041 - val_dense_40_accuracy: 0.8299\n",
      "Epoch 28/30\n",
      "25/25 [==============================] - 4s 178ms/step - loss: 1.7204 - dense_32_loss: 0.1561 - dense_34_loss: 0.2306 - dense_36_loss: 0.3609 - dense_38_loss: 0.5079 - dense_40_loss: 0.4649 - dense_32_accuracy: 0.9381 - dense_34_accuracy: 0.9124 - dense_36_accuracy: 0.8698 - dense_38_accuracy: 0.8196 - dense_40_accuracy: 0.8183 - val_loss: 12.2812 - val_dense_32_loss: 9.5661 - val_dense_34_loss: 0.6447 - val_dense_36_loss: 0.8538 - val_dense_38_loss: 0.7308 - val_dense_40_loss: 0.4858 - val_dense_32_accuracy: 0.0825 - val_dense_34_accuracy: 0.8814 - val_dense_36_accuracy: 0.7990 - val_dense_38_accuracy: 0.7990 - val_dense_40_accuracy: 0.8247\n",
      "Epoch 29/30\n",
      "25/25 [==============================] - 4s 175ms/step - loss: 1.7153 - dense_32_loss: 0.1080 - dense_34_loss: 0.2575 - dense_36_loss: 0.3833 - dense_38_loss: 0.4672 - dense_40_loss: 0.4994 - dense_32_accuracy: 0.9678 - dense_34_accuracy: 0.9059 - dense_36_accuracy: 0.8647 - dense_38_accuracy: 0.8170 - dense_40_accuracy: 0.8003 - val_loss: 13.1520 - val_dense_32_loss: 10.2363 - val_dense_34_loss: 0.7849 - val_dense_36_loss: 0.9030 - val_dense_38_loss: 0.7941 - val_dense_40_loss: 0.4337 - val_dense_32_accuracy: 0.0928 - val_dense_34_accuracy: 0.8660 - val_dense_36_accuracy: 0.8196 - val_dense_38_accuracy: 0.8247 - val_dense_40_accuracy: 0.8402\n",
      "Epoch 30/30\n",
      "25/25 [==============================] - 4s 178ms/step - loss: 1.6610 - dense_32_loss: 0.1296 - dense_34_loss: 0.2325 - dense_36_loss: 0.4069 - dense_38_loss: 0.4433 - dense_40_loss: 0.4486 - dense_32_accuracy: 0.9523 - dense_34_accuracy: 0.9111 - dense_36_accuracy: 0.8544 - dense_38_accuracy: 0.8492 - dense_40_accuracy: 0.8286 - val_loss: 14.2423 - val_dense_32_loss: 11.5447 - val_dense_34_loss: 0.7383 - val_dense_36_loss: 0.8780 - val_dense_38_loss: 0.6216 - val_dense_40_loss: 0.4597 - val_dense_32_accuracy: 0.0258 - val_dense_34_accuracy: 0.8557 - val_dense_36_accuracy: 0.8041 - val_dense_38_accuracy: 0.8247 - val_dense_40_accuracy: 0.8454\n"
     ]
    }
   ],
   "source": [
    "hist = model.fit(X_train, [y_train[0], y_train[1], y_train[2], y_train[3], y_train[4]], batch_size = 32, epochs = 30, verbose = 1, validation_split = 0.2)"
   ]
  },
  {
   "cell_type": "code",
   "execution_count": 45,
   "metadata": {},
   "outputs": [],
   "source": [
    "def predict(filepath):\n",
    "    img = cv2.imread(filepath, cv2.IMREAD_GRAYSCALE)\n",
    "    if img is not None:\n",
    "        img = img / 255.0\n",
    "    else:\n",
    "        print(\"Image not Detected\")\n",
    "    res = np.array(model.predict(img[np.newaxis, :, :, np.newaxis]))\n",
    "    ans = np.reshape(res, (5, 36))\n",
    "    l_ind = []\n",
    "    probs = []\n",
    "    for a in ans:\n",
    "        l_ind.append(np.argmax(a))\n",
    "        \n",
    "    capt = ''\n",
    "    for l in l_ind:\n",
    "        capt +=symbols[l]\n",
    "        \n",
    "    return capt\n"
   ]
  },
  {
   "cell_type": "code",
   "execution_count": 46,
   "metadata": {
    "scrolled": true
   },
   "outputs": [
    {
     "name": "stdout",
     "output_type": "stream",
     "text": [
      "4/4 [==============================] - 0s 28ms/step - loss: 17.3721 - dense_32_loss: 15.7406 - dense_34_loss: 0.1977 - dense_36_loss: 0.6201 - dense_38_loss: 0.5851 - dense_40_loss: 0.2286 - dense_32_accuracy: 0.0000e+00 - dense_34_accuracy: 0.9100 - dense_36_accuracy: 0.8600 - dense_38_accuracy: 0.8200 - dense_40_accuracy: 0.9300\n",
      "Test Loss and accuracy:  [17.372095108032227, 15.740581512451172, 0.19774363934993744, 0.6200811862945557, 0.5850576162338257, 0.22863321006298065, 0.0, 0.9100000262260437, 0.8600000143051147, 0.8199999928474426, 0.9300000071525574]\n"
     ]
    }
   ],
   "source": [
    "score = model.evaluate(X_test, [y_test[0], y_test[1], y_test[2], y_test[3], y_test[4]], verbose = 1)\n",
    "print('Test Loss and accuracy: ', score)"
   ]
  },
  {
   "cell_type": "code",
   "execution_count": 47,
   "metadata": {},
   "outputs": [
    {
     "name": "stdout",
     "output_type": "stream",
     "text": [
      "4/4 [==============================] - 0s 26ms/step - loss: 17.3721 - dense_32_loss: 15.7406 - dense_34_loss: 0.1977 - dense_36_loss: 0.6201 - dense_38_loss: 0.5851 - dense_40_loss: 0.2286 - dense_32_accuracy: 0.0000e+00 - dense_34_accuracy: 0.9100 - dense_36_accuracy: 0.8600 - dense_38_accuracy: 0.8200 - dense_40_accuracy: 0.9300\n",
      "8n5p3\n",
      "f2m8n\n",
      "dce8y\n",
      "3eny7\n",
      "mpxf7\n"
     ]
    }
   ],
   "source": [
    "model.evaluate(X_test, [y_test[0], y_test[1], y_test[2], y_test[3], y_test[4]])\n",
    "print(predict('samples/samples/8n5p3.png'))\n",
    "print(predict('samples/samples/f2m8n.png'))\n",
    "print(predict('samples/samples/dce8y.png'))\n",
    "print(predict('samples/samples/3eny7.png'))\n",
    "print(predict('samples/samples/npxb7.png'))"
   ]
  }
 ],
 "metadata": {
  "kernelspec": {
   "display_name": "Python 3",
   "language": "python",
   "name": "python3"
  },
  "language_info": {
   "codemirror_mode": {
    "name": "ipython",
    "version": 3
   },
   "file_extension": ".py",
   "mimetype": "text/x-python",
   "name": "python",
   "nbconvert_exporter": "python",
   "pygments_lexer": "ipython3",
   "version": "3.7.6"
  }
 },
 "nbformat": 4,
 "nbformat_minor": 4
}
